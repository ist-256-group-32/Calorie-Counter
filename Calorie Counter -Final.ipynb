{
 "cells": [
  {
   "cell_type": "code",
   "execution_count": 1,
   "metadata": {},
   "outputs": [],
   "source": [
    "# Imports / API Information\n",
    "\n",
    "import os\n",
    "import requests\n",
    "import json\n",
    "import pickle # New Learning\n",
    "from nutritionix import Nutritionix\n",
    "nix = Nutritionix(app_id=\"1c1b6479\", api_key=\"7f50cc98637aca4e7c2c874b65d5e960\")"
   ]
  },
  {
   "cell_type": "code",
   "execution_count": 2,
   "metadata": {},
   "outputs": [],
   "source": [
    "# Functions\n",
    "\n",
    "def getCalories(question):\n",
    "    calories = input(question)\n",
    "    if calories.isdigit():\n",
    "        calories = int(calories) # Error Proof\n",
    "        if calories > -1 and calories < 50000:\n",
    "            return calories\n",
    "        else:\n",
    "            print(\"Invalid amount\")\n",
    "            \n",
    "            return getCalories(question)\n",
    "    else:\n",
    "        print(\"Numbers only\")\n",
    "        \n",
    "        return getCalories(question)\n",
    "\n",
    "def getAweek():\n",
    "    print(\"Please enter your calories for the last 7 days\")\n",
    "    week = []\n",
    "    for i in range(7):\n",
    "        day = getCalories(question = \"Day \" + str(i+1) + \":\")\n",
    "        week.append(day)\n",
    "\n",
    "    total = sum(week)\n",
    "    average = int(total / 7)\n",
    "\n",
    "    print(\"\\n\\nTotal calories for the week:\", total)\n",
    "    print(\"\\nAverage calories for the week:\", average)\n",
    "\n",
    "    if total > 19000: # Parameters\n",
    "        print(\"\\nYou are eating too many calories.\")\n",
    "    elif total < 9000:\n",
    "        print(\"\\nYou are eating far too few calories.\")\n",
    "    \n",
    "    return week\n"
   ]
  },
  {
   "cell_type": "code",
   "execution_count": 3,
   "metadata": {},
   "outputs": [
    {
     "name": "stdout",
     "output_type": "stream",
     "text": [
      "Enter a food to lookup ID: pizza\n"
     ]
    },
    {
     "data": {
      "text/plain": [
       "{'total_hits': 25972,\n",
       " 'max_score': 12.474738,\n",
       " 'hits': [{'_index': 'f762ef22-e660-434f-9071-a10ea6691c27',\n",
       "   '_type': 'item',\n",
       "   '_id': '589e292d3a6fbe5b59c92a3f',\n",
       "   '_score': 12.474738,\n",
       "   'fields': {'item_id': '589e292d3a6fbe5b59c92a3f',\n",
       "    'nf_serving_size_qty': 1,\n",
       "    'nf_serving_size_unit': 'serving'}}]}"
      ]
     },
     "execution_count": 3,
     "metadata": {},
     "output_type": "execute_result"
    }
   ],
   "source": [
    "# Food ID Lookup\n",
    "food = input(\"Enter a food to lookup ID: \")\n",
    "\n",
    "nix.search((food), results=\"0:1\", fields ='_id').json()"
   ]
  },
  {
   "cell_type": "code",
   "execution_count": 4,
   "metadata": {},
   "outputs": [
    {
     "name": "stdout",
     "output_type": "stream",
     "text": [
      "Enter the foods ID: 589e292d3a6fbe5b59c92a3f\n"
     ]
    },
    {
     "data": {
      "text/plain": [
       "{'old_api_id': None,\n",
       " 'item_id': '589e292d3a6fbe5b59c92a3f',\n",
       " 'item_name': 'Cheese Pizza - 1 large pizza',\n",
       " 'leg_loc_id': 328,\n",
       " 'brand_id': '513fcc648110a4cafb90ca5e',\n",
       " 'brand_name': 'USDA',\n",
       " 'item_description': None,\n",
       " 'updated_at': '2017-02-10T20:59:34.000Z',\n",
       " 'nf_ingredient_statement': None,\n",
       " 'nf_water_grams': None,\n",
       " 'nf_calories': 2268.98,\n",
       " 'nf_calories_from_fat': 744.02,\n",
       " 'nf_total_fat': 82.67,\n",
       " 'nf_saturated_fat': 38.11,\n",
       " 'nf_trans_fatty_acid': 2.07,\n",
       " 'nf_polyunsaturated_fat': 14.35,\n",
       " 'nf_monounsaturated_fat': 22.24,\n",
       " 'nf_cholesterol': 145.01,\n",
       " 'nf_sodium': 5100.94,\n",
       " 'nf_total_carbohydrate': 284.28,\n",
       " 'nf_dietary_fiber': 19.61,\n",
       " 'nf_sugars': 30.53,\n",
       " 'nf_protein': 97.18,\n",
       " 'nf_vitamin_a_dv': 61.07,\n",
       " 'nf_vitamin_c_dv': 19.93,\n",
       " 'nf_calcium_dv': 160.4,\n",
       " 'nf_iron_dv': 117.51,\n",
       " 'nf_refuse_pct': None,\n",
       " 'nf_servings_per_container': None,\n",
       " 'nf_serving_size_qty': 1,\n",
       " 'nf_serving_size_unit': 'large pizza',\n",
       " 'nf_serving_weight_grams': 853,\n",
       " 'allergen_contains_milk': None,\n",
       " 'allergen_contains_eggs': None,\n",
       " 'allergen_contains_fish': None,\n",
       " 'allergen_contains_shellfish': None,\n",
       " 'allergen_contains_tree_nuts': None,\n",
       " 'allergen_contains_peanuts': None,\n",
       " 'allergen_contains_wheat': None,\n",
       " 'allergen_contains_soybeans': None,\n",
       " 'allergen_contains_gluten': None,\n",
       " 'usda_fields': None}"
      ]
     },
     "execution_count": 4,
     "metadata": {},
     "output_type": "execute_result"
    }
   ],
   "source": [
    "# Nutritional Information Lookup\n",
    "ID = input(\"Enter the foods ID: \")\n",
    "parameters = {\"nf_calories\"}\n",
    "nix.item(id=(ID), params=parameters).json()"
   ]
  },
  {
   "cell_type": "code",
   "execution_count": 5,
   "metadata": {},
   "outputs": [
    {
     "name": "stdout",
     "output_type": "stream",
     "text": [
      "Enter food calories (or press ENTER to quit): 324\n",
      "Enter food calories (or press ENTER to quit): 345\n",
      "Enter food calories (or press ENTER to quit): \n",
      "345\n"
     ]
    }
   ],
   "source": [
    "# Calculate total calories for a day - not completed yet\n",
    "try:\n",
    "    total = 0\n",
    "    while True:\n",
    "        user_input = int(input(\"Enter food calories (or press ENTER to quit): \"))\n",
    "        new_total = user_input + total\n",
    "\n",
    "except ValueError as error:   \n",
    "    print(new_total)"
   ]
  },
  {
   "cell_type": "code",
   "execution_count": 6,
   "metadata": {},
   "outputs": [
    {
     "name": "stdout",
     "output_type": "stream",
     "text": [
      "*********   Welcome to the monthly calorie counter   **********\n",
      "\n",
      "\n",
      "Week/ \tMon   \tTues  \tWeds  \tThurs  \tFri   \tSat   \tSun   \tAvg   \tTot\n",
      "\n",
      "\n",
      "\n",
      "\n",
      "\n",
      "\n",
      "Which week would you like to edit the values for? (1,2,3,4)1\n",
      "Please enter your calories for the last 7 days\n",
      "Day 1:234\n",
      "Day 2:23445\n",
      "Day 3:345\n",
      "Day 4:234\n",
      "Day 5:456\n",
      "Day 6:678\n",
      "Day 7:234\n",
      "\n",
      "\n",
      "Total calories for the week: 25626\n",
      "\n",
      "Average calories for the week: 3660\n",
      "\n",
      "You are eating too many calories.\n",
      "*********   Welcome to the monthly calorie counter   **********\n",
      "\n",
      "\n",
      "Week/ \tMon   \tTues  \tWeds  \tThurs  \tFri   \tSat   \tSun   \tAvg   \tTot\n",
      "1\t234\t23445\t345\t234\t456\t678\t234\t3660\t25626\n",
      "\n",
      "\n",
      "\n",
      "\n",
      "\n",
      "Which week would you like to edit the values for? (1,2,3,4)3\n",
      "Please enter your calories for the last 7 days\n",
      "Day 1:234\n",
      "Day 2:345\n",
      "Day 3:234\n",
      "Day 4:456\n",
      "Day 5:768\n",
      "Day 6:345\n",
      "Day 7:234\n",
      "\n",
      "\n",
      "Total calories for the week: 2616\n",
      "\n",
      "Average calories for the week: 373\n",
      "\n",
      "You are eating far too few calories.\n",
      "*********   Welcome to the monthly calorie counter   **********\n",
      "\n",
      "\n",
      "Week/ \tMon   \tTues  \tWeds  \tThurs  \tFri   \tSat   \tSun   \tAvg   \tTot\n",
      "1\t234\t23445\t345\t234\t456\t678\t234\t3660\t25626\n",
      "\n",
      "3\t234\t345\t234\t456\t768\t345\t234\t373\t2616\n",
      "\n",
      "\n",
      "\n",
      "Which week would you like to edit the values for? (1,2,3,4)\n",
      "Program Quitting. . .\n"
     ]
    }
   ],
   "source": [
    "# Open previously inputted data\n",
    "month = [[],[],[],[]]\n",
    "\n",
    "try:\n",
    "    while True:\n",
    "        print(\"*********   Welcome to the monthly calorie counter   **********\\n\\n\")\n",
    "        print(\"Week/ \\tMon   \\tTues  \\tWeds  \\tThurs  \\tFri   \\tSat   \\tSun   \\tAvg   \\tTot\")\n",
    "        count = 1\n",
    "        for week in month:\n",
    "            if len(week) == 7:\n",
    "                print(count, end=\"\\t\")\n",
    "                for day in week:\n",
    "                    print(day,end=\"\\t\")\n",
    "                print(int(sum(week)/7),end=\"\\t\")\n",
    "                print(sum(week),end=\"\\n\")\n",
    "            else:\n",
    "                print(\"\")\n",
    "    #print(str(count) +\"\\t\" + \"\\t\".join([str(x) for x in week]) + \"\"\\n\"\n",
    "            count = count + 1\n",
    "\n",
    "        weeknum = int(input(\"\\n\\nWhich week would you like to edit the values for? (1,2,3,4)\"))\n",
    "        month[weeknum-1] = getAweek()\n",
    "        pickle.dump( month, open( \"save.p\", \"wb\" ) )\n",
    "\n",
    "except ValueError as error:\n",
    "    print(\"Program Quitting. . .\")\n",
    "   \n",
    "\n",
    "try:\n",
    "    month = pickle.load( open( \"save.p\", \"rb\" ) ) # Try and load previous saved data\n",
    "except:\n",
    "    month = [[],[],[],[]] # If that fails, just create a new year list\n",
    "\n"
   ]
  },
  {
   "cell_type": "code",
   "execution_count": null,
   "metadata": {},
   "outputs": [],
   "source": []
  }
 ],
 "metadata": {
  "kernelspec": {
   "display_name": "Python 3",
   "language": "python",
   "name": "python3"
  },
  "language_info": {
   "codemirror_mode": {
    "name": "ipython",
    "version": 3
   },
   "file_extension": ".py",
   "mimetype": "text/x-python",
   "name": "python",
   "nbconvert_exporter": "python",
   "pygments_lexer": "ipython3",
   "version": "3.6.6"
  }
 },
 "nbformat": 4,
 "nbformat_minor": 2
}
