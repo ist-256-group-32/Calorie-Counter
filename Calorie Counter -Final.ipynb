{
 "cells": [
  {
   "cell_type": "code",
   "execution_count": 1,
   "metadata": {},
   "outputs": [
    {
     "name": "stdout",
     "output_type": "stream",
     "text": [
      "\u001b[33mYou are using pip version 19.0.3, however version 19.1 is available.\r\n",
      "You should consider upgrading via the 'pip install --upgrade pip' command.\u001b[0m\r\n"
     ]
    }
   ],
   "source": [
    "!pip install -q nutritionix"
   ]
  },
  {
   "cell_type": "code",
   "execution_count": 1,
   "metadata": {},
   "outputs": [],
   "source": [
    "# Imports / API Information\n",
    "\n",
    "import pandas as pd\n",
    "import os\n",
    "import requests\n",
    "import json\n",
    "import pickle # New Learning - basically another way to read/write in previously inputted information\n",
    "from pprint import pprint # New Learning\n",
    "from nutritionix import Nutritionix # API Information\n",
    "nix = Nutritionix(app_id=\"1c1b6479\", api_key=\"7f50cc98637aca4e7c2c874b65d5e960\") # API Information"
   ]
  },
  {
   "cell_type": "code",
   "execution_count": 2,
   "metadata": {},
   "outputs": [],
   "source": [
    "# Functions\n",
    "\n",
    "def ID(): # Get food ID for a 1 to 1 match in next function - required by API\n",
    "    food = input(\"Enter a food to lookup ID: \")\n",
    "\n",
    "    food_lookup = nix.search((food), results=\"0:1\", fields ={'hits'}).json() # Only display first result - this can be edited\n",
    "\n",
    "    pprint(food_lookup) # Use pprint import to print output on a new line for reading ease \n",
    "\n",
    "def nutrition(): # Get food nutritional information based on 1 to 1 match from previous function \n",
    "    ID = input(\"Enter the foods ID: \") \n",
    "    parameters = 'nf_calories' # Attempted to set parameters and failed miserably\n",
    "    nutrition = nix.item(id=(ID), params=parameters).json() # Get JSON data on the food ID\n",
    "    pprint(nutrition) # Use pprint import to print output on a new line for reading ease \n",
    "\n",
    "def daily(): # Daily calorie counter\n",
    "    print(print(\"*********   Welcome to the daily calorie counter   **********\\n\\n\"))\n",
    "    count_1 = 0 # Start total calories count at 0\n",
    "\n",
    "    try:\n",
    "        while True:\n",
    "            calories = float(input(\"Please enter calories: \"))\n",
    "            count_1 += calories # Add calories based on user input\n",
    "\n",
    "        if calories == '': # If nothing entered (ENTER key pressed), print the total calories\n",
    "            print(\"Calculating Total Calories. . .\")\n",
    "\n",
    "    except ValueError: # If anything other than float/int is entered, quit the program and print total calories\n",
    "        print(\"Calculating Total Calories. . .\")\n",
    "\n",
    "    print(count_1)\n",
    "\n",
    "def weekly(): # Weekly calorie counter \n",
    "    print(print(\"*********   Welcome to the weekly calorie counter   **********\\n\\n\"))\n",
    "    count_1 = 0 # Start total calories count at 0\n",
    "    count_2 = 0 # Start day count at 0\n",
    "    try:\n",
    "        while True:\n",
    "            calories = float(input(\"Please enter calories: \"))\n",
    "            count_1 += calories # Add calories based on user input\n",
    "            day = input(\"Please enter a day: \") # Add days based on user input\n",
    "            count_2 += 1\n",
    "        if day == '': # If nothing entered (ENTER key pressed), print the total calories\n",
    "            print(\"Adding total calories. . .\")\n",
    "        \n",
    "\n",
    "        elif count_2 == 7: # If day count equals 7, add total calories because there are only 7 days in a week!!!\n",
    "            print(\"Adding total calories. . .\")\n",
    "        \n",
    "\n",
    "    except ValueError: # If anything other than float/int is entered, quit the program and print total calories\n",
    "        print(\"Calculating Total Calories. . .\")\n",
    "\n",
    "    print(count_1)\n",
    "\n",
    "def get_Calories(question): # 1st function for monthly calorie counter\n",
    "    calories = input(question)\n",
    "    if calories.isdigit():\n",
    "        calories = float(calories) # Error proof\n",
    "        if calories > -1 and calories < 50000: # Set parameters\n",
    "            return calories\n",
    "        \n",
    "        else:\n",
    "            print(\"Invalid amount\") # Anything entered exceeding above parameters will print invalid amount and loop back to question\n",
    "            \n",
    "            return get_Calories(question)\n",
    "    else:\n",
    "        print(\"Numbers only\") # If anything other than a float/int is entered, print numbers only and loop back to question\n",
    "        \n",
    "        return get_Calories(question)\n",
    "\n",
    "def get_week(): # 2nd function for monthly calorie counter\n",
    "    print(\"Please enter your calories for the last 7 days\")\n",
    "    week = [] # Empty list for week\n",
    "    for i in range(7): # For loop to ask user to input calories for 7 days in the week\n",
    "        day = get_Calories(question = \"Day \" + str(i+1) + \":\") # Call 1st function\n",
    "        week.append(day) # Append user input for each day into empty list\n",
    "\n",
    "    total = sum(week) # Calculate total calories for week by adding up all the values \n",
    "    average = int(total / 7) # Calculate average calories for week by adding up all values and dividing by 7\n",
    "\n",
    "    print(\"\\n\\nTotal calories for the week:\", total)\n",
    "    print(\"\\nAverage calories for the week:\", average)\n",
    "\n",
    "    if total > 19000: # Set parameters for if the user is eating too much - this can be changed\n",
    "        print(\"\\nYou are eating too many calories.\")\n",
    "    elif total < 9000: # Set parameters for if the user is not eating enough - this can be changed\n",
    "        print(\"\\nYou are eating far too few calories.\")\n",
    "    \n",
    "    return week\n",
    "\n",
    "def monthly():\n",
    "    month = [[],[],[],[]] # Four lists because there are four weeks in a month!!!\n",
    "\n",
    "    try:\n",
    "        while True:\n",
    "            print(\"*********   Welcome to the monthly calorie counter   **********\\n\\n\")\n",
    "            print(\"Week/ \\tMon   \\tTues  \\tWeds  \\tThurs  \\tFri   \\tSat   \\tSun   \\tAvg   \\tTot\") # Visualization!!!\n",
    "            count = 1\n",
    "            for week in month:\n",
    "                if len(week) == 7: # 7 days in a week !!!!!\n",
    "                    print(count, end=\"\\t\")\n",
    "                    for day in week: # Loop over days in a week - for loop because we only need to loop over 7 days\n",
    "                        print(day,end=\"\\t\")\n",
    "                    print(float(sum(week)/7),end=\"\\t\") # Calculate average\n",
    "                    print(sum(week),end=\"\\n\") # Calculate total\n",
    "                else:\n",
    "                    print(\"\")\n",
    "    #print(str(count) +\"\\t\" + \"\\t\".join([str(x) for x in week]) + \"\"\\n\"\n",
    "                count = count + 1 \n",
    "\n",
    "            weeknum = int(input(\"\\n\\nWhich week would you like to edit the values for? (1,2,3,4)\"))\n",
    "            month[weeknum-1] = get_week() # Call function\n",
    "            pickle.dump( month, open( \"save.p\", \"wb\" ) ) # Dump data in a pickle file\n",
    "\n",
    "    except ValueError as error: # Anything entered other than a float/int will quit the program\n",
    "        print(\"Program Quitting. . .\")\n",
    "   \n",
    "\n",
    "    try:\n",
    "        month = pickle.load( open( \"save.p\", \"rb\" ) ) # Try and load previous saved data\n",
    "    except:\n",
    "        month = [[],[],[],[]] # If that fails, create a new month list\n",
    "\n",
    "\n"
   ]
  },
  {
   "cell_type": "code",
   "execution_count": 3,
   "metadata": {},
   "outputs": [
    {
     "name": "stdout",
     "output_type": "stream",
     "text": [
      "Enter a food to lookup ID: pizza\n",
      "{'hits': [{'_id': '589e2856af7fa7fd78c52c6b',\n",
      "           '_index': 'f762ef22-e660-434f-9071-a10ea6691c27',\n",
      "           '_score': 12.6720085,\n",
      "           '_type': 'item',\n",
      "           'fields': {'nf_serving_size_qty': 1,\n",
      "                      'nf_serving_size_unit': 'serving'}}],\n",
      " 'max_score': 12.6720085,\n",
      " 'total_hits': 25977}\n"
     ]
    }
   ],
   "source": [
    "ID() # Call ID function"
   ]
  },
  {
   "cell_type": "code",
   "execution_count": 4,
   "metadata": {},
   "outputs": [
    {
     "name": "stdout",
     "output_type": "stream",
     "text": [
      "Enter the foods ID: 589e2856af7fa7fd78c52c6b\n",
      "{'allergen_contains_eggs': None,\n",
      " 'allergen_contains_fish': None,\n",
      " 'allergen_contains_gluten': None,\n",
      " 'allergen_contains_milk': None,\n",
      " 'allergen_contains_peanuts': None,\n",
      " 'allergen_contains_shellfish': None,\n",
      " 'allergen_contains_soybeans': None,\n",
      " 'allergen_contains_tree_nuts': None,\n",
      " 'allergen_contains_wheat': None,\n",
      " 'brand_id': '513fcc648110a4cafb90ca5e',\n",
      " 'brand_name': 'USDA',\n",
      " 'item_description': None,\n",
      " 'item_id': '589e2856af7fa7fd78c52c6b',\n",
      " 'item_name': 'Cheese Pizza - 1 small pizza',\n",
      " 'leg_loc_id': 328,\n",
      " 'nf_calcium_dv': 73.33,\n",
      " 'nf_calories': 1037.4,\n",
      " 'nf_calories_from_fat': 340.17,\n",
      " 'nf_cholesterol': 66.3,\n",
      " 'nf_dietary_fiber': 8.97,\n",
      " 'nf_ingredient_statement': None,\n",
      " 'nf_iron_dv': 53.73,\n",
      " 'nf_monounsaturated_fat': 10.17,\n",
      " 'nf_polyunsaturated_fat': 6.56,\n",
      " 'nf_protein': 44.43,\n",
      " 'nf_refuse_pct': None,\n",
      " 'nf_saturated_fat': 17.42,\n",
      " 'nf_serving_size_qty': 1,\n",
      " 'nf_serving_size_unit': 'small pizza',\n",
      " 'nf_serving_weight_grams': 390,\n",
      " 'nf_servings_per_container': None,\n",
      " 'nf_sodium': 2332.2,\n",
      " 'nf_sugars': 13.96,\n",
      " 'nf_total_carbohydrate': 129.98,\n",
      " 'nf_total_fat': 37.8,\n",
      " 'nf_trans_fatty_acid': 0.95,\n",
      " 'nf_vitamin_a_dv': 27.92,\n",
      " 'nf_vitamin_c_dv': 9.11,\n",
      " 'nf_water_grams': None,\n",
      " 'old_api_id': None,\n",
      " 'updated_at': '2017-02-10T20:54:45.000Z',\n",
      " 'usda_fields': None}\n"
     ]
    }
   ],
   "source": [
    "nutrition() # Call nutrition function"
   ]
  },
  {
   "cell_type": "code",
   "execution_count": 5,
   "metadata": {},
   "outputs": [
    {
     "name": "stdout",
     "output_type": "stream",
     "text": [
      "*********   Welcome to the daily calorie counter   **********\n",
      "\n",
      "\n",
      "None\n",
      "Please enter calories: 300\n",
      "Please enter calories: 400\n",
      "Please enter calories: 200\n",
      "Please enter calories: \n",
      "Calculating Total Calories. . .\n",
      "900.0\n"
     ]
    }
   ],
   "source": [
    "daily() # Call daily function"
   ]
  },
  {
   "cell_type": "code",
   "execution_count": 6,
   "metadata": {},
   "outputs": [
    {
     "name": "stdout",
     "output_type": "stream",
     "text": [
      "*********   Welcome to the weekly calorie counter   **********\n",
      "\n",
      "\n",
      "None\n",
      "Please enter calories: 400\n",
      "Please enter a day: 500\n",
      "Please enter calories: 1234\n",
      "Please enter a day: 345\n",
      "Please enter calories: \n",
      "Calculating Total Calories. . .\n",
      "1634.0\n"
     ]
    }
   ],
   "source": [
    "weekly() # Call weekly function"
   ]
  },
  {
   "cell_type": "code",
   "execution_count": 7,
   "metadata": {},
   "outputs": [
    {
     "name": "stdout",
     "output_type": "stream",
     "text": [
      "*********   Welcome to the monthly calorie counter   **********\n",
      "\n",
      "\n",
      "Week/ \tMon   \tTues  \tWeds  \tThurs  \tFri   \tSat   \tSun   \tAvg   \tTot\n",
      "\n",
      "\n",
      "\n",
      "\n",
      "\n",
      "\n",
      "Which week would you like to edit the values for? (1,2,3,4)2\n",
      "Please enter your calories for the last 7 days\n",
      "Day 1:2342\n",
      "Day 2:4353\n",
      "Day 3:4564\n",
      "Day 4:2342\n",
      "Day 5:45645\n",
      "Day 6:2325\n",
      "Day 7:4563\n",
      "\n",
      "\n",
      "Total calories for the week: 66134.0\n",
      "\n",
      "Average calories for the week: 9447\n",
      "\n",
      "You are eating too many calories.\n",
      "*********   Welcome to the monthly calorie counter   **********\n",
      "\n",
      "\n",
      "Week/ \tMon   \tTues  \tWeds  \tThurs  \tFri   \tSat   \tSun   \tAvg   \tTot\n",
      "\n",
      "2\t2342.0\t4353.0\t4564.0\t2342.0\t45645.0\t2325.0\t4563.0\t9447.714285714286\t66134.0\n",
      "\n",
      "\n",
      "\n",
      "\n",
      "Which week would you like to edit the values for? (1,2,3,4)\n",
      "Program Quitting. . .\n"
     ]
    }
   ],
   "source": [
    "monthly() # Call month function"
   ]
  },
  {
   "cell_type": "code",
   "execution_count": null,
   "metadata": {},
   "outputs": [],
   "source": []
  }
 ],
 "metadata": {
  "kernelspec": {
   "display_name": "Python 3",
   "language": "python",
   "name": "python3"
  },
  "language_info": {
   "codemirror_mode": {
    "name": "ipython",
    "version": 3
   },
   "file_extension": ".py",
   "mimetype": "text/x-python",
   "name": "python",
   "nbconvert_exporter": "python",
   "pygments_lexer": "ipython3",
   "version": "3.6.6"
  }
 },
 "nbformat": 4,
 "nbformat_minor": 2
}
