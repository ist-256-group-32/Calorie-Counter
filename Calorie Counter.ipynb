{
 "cells": [
  {
   "cell_type": "code",
   "execution_count": 8,
   "metadata": {},
   "outputs": [],
   "source": [
    "# Imports / API Information\n",
    "\n",
    "import os\n",
    "import requests\n",
    "import json\n",
    "import pickle # New Learning\n",
    "from nutritionix import Nutritionix\n",
    "nix = Nutritionix(app_id=\"1c1b6479\", api_key=\"7f50cc98637aca4e7c2c874b65d5e960\")"
   ]
  },
  {
   "cell_type": "code",
   "execution_count": 9,
   "metadata": {},
   "outputs": [],
   "source": [
    "# Functions\n",
    "\n",
    "def getCalories(question):\n",
    "    calories = input(question)\n",
    "    if calories.isdigit():\n",
    "        calories = int(calories) # Error Proof\n",
    "        if calories > -1 and calories < 50000:\n",
    "            return calories\n",
    "        else:\n",
    "            print(\"Invalid amount\")\n",
    "            \n",
    "            return getCalories(question)\n",
    "    else:\n",
    "        print(\"Numbers only\")\n",
    "        \n",
    "        return getCalories(question)\n",
    "\n",
    "def getAweek():\n",
    "    os.system(\"clear\")\n",
    "    print(\"Please enter your calories for the last 7 days\")\n",
    "    week = []\n",
    "    for i in range(7):\n",
    "        day = getCalories(question = \"Day \" + str(i+1) + \":\")\n",
    "        week.append(day)\n",
    "\n",
    "    total = sum(week)\n",
    "    average = int(total / 7)\n",
    "\n",
    "    print(\"\\n\\nTotal calories for the week:\", total)\n",
    "    print(\"\\nAverage calories for the week:\", average)\n",
    "\n",
    "    if total > 19000: # Parameters\n",
    "        print(\"\\nYou are eating too many calories.\")\n",
    "    elif total < 9000:\n",
    "        print(\"\\nYou are eating far too few calories.\")\n",
    "    \n",
    "    return week\n"
   ]
  },
  {
   "cell_type": "code",
   "execution_count": null,
   "metadata": {},
   "outputs": [],
   "source": [
    "# Open previously inputted data\n",
    "def main():\n",
    "    os.system(\"clear\")\n",
    "    print(\"*********   Welcome to the calorie counter   **********\\n\\n\")\n",
    "    print(\"Week\\tMon   \\tTues  \\tWeds  \\tThurs  \\tFri   \\tSat   \\tSun   \\tAvg   \\tTot   \")\n",
    "    count = 1\n",
    "    for week in month:\n",
    "        if len(week) == 7:\n",
    "            print(count, end=\"\\t\")\n",
    "            for day in week:\n",
    "                print(day,end=\"\\t\")\n",
    "            print(int(sum(week)/7),end=\"\\t\")\n",
    "            print(sum(week),end=\"\\n\")\n",
    "        else:\n",
    "            print(\"\")\n",
    "        #print(str(count) +\"\\t\" + \"\\t\".join([str(x) for x in week]) + \"\"\\n\"\n",
    "        count = count + 1\n",
    "\n",
    "    weeknum = int(input(\"\\n\\nWhich week would you like to edit the values for? (1,2,3,4)\"))\n",
    "    month[weeknum-1] = getAweek()\n",
    "    pickle.dump( month, open( \"save.p\", \"wb\" ) )\n",
    "\n",
    "\n",
    "    main() #Run the main loop again\n",
    "\n",
    "\n",
    "try:\n",
    "    month = pickle.load( open( \"save.p\", \"rb\" ) ) # Try and load previous saved data\n",
    "except:\n",
    "    month = [[],[],[],[]] # If that fails, just create a new month list\n",
    "\n",
    "\n",
    "main()\n",
    "\n"
   ]
  },
  {
   "cell_type": "code",
   "execution_count": null,
   "metadata": {},
   "outputs": [],
   "source": [
    "# Food ID Lookup\n",
    "food = input(\"Enter a food to lookup ID: \")\n",
    "\n",
    "nix.search((food), results=\"0:1\").json()"
   ]
  },
  {
   "cell_type": "code",
   "execution_count": null,
   "metadata": {},
   "outputs": [],
   "source": [
    "# Nutritional Information Lookup\n",
    "ID = input(\"Enter the foods ID: \")\n",
    "parameters = {\"nf_calories\"}\n",
    "nix.item(id=(ID), params=parameters).json()"
   ]
  },
  {
   "cell_type": "code",
   "execution_count": null,
   "metadata": {},
   "outputs": [],
   "source": [
    "# Calculate total calories for a day\n",
    "total = 0\n",
    "while True:\n",
    "    user_input = int(input(\"Enter food calories (or press ENTER to quit: \"))\n",
    "    user_input += total\n",
    "    if user_input == \"\":\n",
    "        print(total)\n",
    "        break"
   ]
  },
  {
   "cell_type": "code",
   "execution_count": null,
   "metadata": {},
   "outputs": [],
   "source": []
  }
 ],
 "metadata": {
  "kernelspec": {
   "display_name": "Python 3",
   "language": "python",
   "name": "python3"
  },
  "language_info": {
   "codemirror_mode": {
    "name": "ipython",
    "version": 3
   },
   "file_extension": ".py",
   "mimetype": "text/x-python",
   "name": "python",
   "nbconvert_exporter": "python",
   "pygments_lexer": "ipython3",
   "version": "3.6.6"
  }
 },
 "nbformat": 4,
 "nbformat_minor": 2
}
